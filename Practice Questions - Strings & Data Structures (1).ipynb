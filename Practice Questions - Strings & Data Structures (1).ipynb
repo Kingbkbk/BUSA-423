{
 "cells": [
  {
   "cell_type": "markdown",
   "id": "bc203c58",
   "metadata": {},
   "source": [
    "## Practice Questions - Strings & Data Structures"
   ]
  },
  {
   "cell_type": "markdown",
   "id": "44bd5425",
   "metadata": {},
   "source": [
    "#### Question 1: \n",
    "\n",
    "Given an original list consiting of values: 22, 41, 33, 66, 8, 12 and 90. Use **append(), extend(), insert(), and concatenation** to add the values 32, 45, 16 and 11 to the list. "
   ]
  },
  {
   "cell_type": "code",
   "execution_count": 31,
   "id": "67d75946",
   "metadata": {},
   "outputs": [
    {
     "name": "stdout",
     "output_type": "stream",
     "text": [
      "['22', '41', '33', '66', '8', '12', '90', ['32', '45', '16', '11']]\n",
      "['22', '41', '33', '66', '8', '12', '90', ['32', '45', '16', '11'], '32', '45', '16', '11']\n",
      "['22', '41', '33', '66', '8', '12', '90', ['32', '45', '16', '11'], ['32', '45', '16', '11'], '32', '45', '16', '11']\n",
      "['22', '41', '33', '66', '8', '12', '90', ['32', '45', '16', '11'], ['32', '45', '16', '11'], '32', '45', '16', '11', '32', '45', '16', '11']\n"
     ]
    }
   ],
   "source": [
    "numbers = ['22','41','33','66','8','12','90']\n",
    "add = ['32','45','16','11']\n",
    "\n",
    "# running it separately\n",
    "\n",
    "numbers.append(add)\n",
    "print(numbers)\n",
    "\n",
    "numbers.extend(add)\n",
    "print(numbers)\n",
    "\n",
    "numbers.insert(7,add)\n",
    "print(numbers)\n",
    "\n",
    "print(numbers+add)"
   ]
  },
  {
   "cell_type": "markdown",
   "id": "9bdbb16a",
   "metadata": {},
   "source": [
    "#### Question 2: \n",
    "\n",
    "Write a Python program that tests whether a list is empty or not. Repeat the task for testing an empty string."
   ]
  },
  {
   "cell_type": "code",
   "execution_count": 36,
   "id": "152a1ba8",
   "metadata": {},
   "outputs": [
    {
     "name": "stdout",
     "output_type": "stream",
     "text": [
      "The list is Empty\n"
     ]
    }
   ],
   "source": [
    "A = []\n",
    "\n",
    "def checklist(A): \n",
    "   if not A: \n",
    "      return 1\n",
    "   else: \n",
    "      return 0\n",
    "    \n",
    "if checklist(A): \n",
    "   print (\"The list is Empty\") \n",
    "else: \n",
    "   print (\"The list is not empty\") "
   ]
  },
  {
   "cell_type": "markdown",
   "id": "927cce91",
   "metadata": {},
   "source": [
    "#### Question 3: \n",
    "\n",
    "- How many times does \"dream\" appear in the text?\n",
    "\n",
    "- Where is this text from? \n",
    "\n",
    "- Create a python code to print the text.\n",
    "\n",
    "Dream on\\\n",
    "Dream on\\\n",
    "I dream on\\\n",
    "Dream a little, I'll dream on\\\n",
    "Dream on\\\n",
    "I dream on\\\n",
    "I dream on\n",
    "\n",
    "Dream a little, I'll dream on\\\n",
    "Dream on\\\n",
    "Dream on\\\n",
    "Dream on\\\n",
    "I'll dream on\\\n",
    "Dream on\\\n",
    "Dream on\\\n",
    "I dream on"
   ]
  },
  {
   "cell_type": "code",
   "execution_count": 11,
   "id": "85ab54e8",
   "metadata": {},
   "outputs": [
    {
     "ename": "NameError",
     "evalue": "name 'r' is not defined",
     "output_type": "error",
     "traceback": [
      "\u001b[1;31m---------------------------------------------------------------------------\u001b[0m",
      "\u001b[1;31mNameError\u001b[0m                                 Traceback (most recent call last)",
      "Input \u001b[1;32mIn [11]\u001b[0m, in \u001b[0;36m<cell line: 3>\u001b[1;34m()\u001b[0m\n\u001b[0;32m      1\u001b[0m file \u001b[38;5;241m=\u001b[39m \u001b[38;5;28mopen\u001b[39m(\u001b[38;5;124m'\u001b[39m\u001b[38;5;124mC:\u001b[39m\u001b[38;5;124m\\\u001b[39m\u001b[38;5;124mDreamcount.txt\u001b[39m\u001b[38;5;124m'\u001b[39m, \u001b[38;5;124m'\u001b[39m\u001b[38;5;124mr\u001b[39m\u001b[38;5;124m'\u001b[39m)\n\u001b[0;32m      2\u001b[0m read_data \u001b[38;5;241m=\u001b[39m file\u001b[38;5;241m.\u001b[39mread()\n\u001b[1;32m----> 3\u001b[0m \u001b[43mr\u001b[49m\u001b[38;5;241m.\u001b[39mcount(dream)\n\u001b[0;32m      5\u001b[0m \u001b[38;5;28mprint\u001b[39m(\u001b[38;5;124m'\u001b[39m\u001b[38;5;124mDream count:\u001b[39m\u001b[38;5;124m'\u001b[39m, count(dream))\n",
      "\u001b[1;31mNameError\u001b[0m: name 'r' is not defined"
     ]
    }
   ],
   "source": [
    "file = open('C:\\Dreamcount.txt', 'r')\n",
    "read_data = file.read()\n",
    "r.count(dream)\n",
    "\n",
    "print('Dream count:', count(dream))"
   ]
  },
  {
   "cell_type": "markdown",
   "id": "f5f2fff5",
   "metadata": {},
   "source": [
    "#### Question 4: \n",
    "\n",
    "Create a dictionary, with keys being the name of employees: Oliver, Myers, Noah and Fallon. \n",
    "\n",
    "Add the values age (random - between 40 and 60), income (random between 100,000 and 150,000) and rating (random between 3.0 and 5.0) "
   ]
  },
  {
   "cell_type": "code",
   "execution_count": 8,
   "id": "ffdf510a",
   "metadata": {},
   "outputs": [
    {
     "name": "stdout",
     "output_type": "stream",
     "text": [
      "['120,000', '150,000', '130,000', '150,000']\n"
     ]
    }
   ],
   "source": [
    "# 'data = {'name' : 'Oliver', 'age' : '42', 'income' : '120,000', 'rating' : '3.2' }\n",
    "# for key,value in data.items() :\n",
    "    # print(\"key:\" + key + ',' + \"value:\" + str(value))\n",
    "    \n",
    "database = {'Oliver':{'age' : '42', 'income' : '120,000', 'rating' : '3.2' }, 'Myers':{'age' : '52', 'income' : '150,000', 'rating' : '4.2' }, 'Noah':{'age' : '45', 'income' : '130,000', 'rating' : '3.8' }, 'Fallon':{'age' : '42', 'income' : '150,000', 'rating' : '4.2' }}\n",
    "\n",
    "print(database.keys())\n",
    "print(database['Oliver']['age'])\n",
    "\n",
    "Incomes = []\n",
    "for key in database.keys() :\n",
    "    Incomes.append(database[key]['income'])\n",
    "    \n",
    "print(Incomes)"
   ]
  },
  {
   "cell_type": "markdown",
   "id": "56396df1",
   "metadata": {},
   "source": [
    "#### Question 5: \n",
    "\n",
    "Create the following student data into 2 sub dictionaries based on the scores. (score <= 10 & score > 10)"
   ]
  },
  {
   "cell_type": "code",
   "execution_count": 13,
   "id": "4c265e31",
   "metadata": {},
   "outputs": [
    {
     "ename": "SyntaxError",
     "evalue": "Missing parentheses in call to 'print'. Did you mean print(students)? (1692934416.py, line 12)",
     "output_type": "error",
     "traceback": [
      "\u001b[1;36m  Input \u001b[1;32mIn [13]\u001b[1;36m\u001b[0m\n\u001b[1;33m    print students\u001b[0m\n\u001b[1;37m          ^\u001b[0m\n\u001b[1;31mSyntaxError\u001b[0m\u001b[1;31m:\u001b[0m Missing parentheses in call to 'print'. Did you mean print(students)?\n"
     ]
    }
   ],
   "source": [
    "students = {\"student_1\" : 13 , \"student_2\" : 17 , \"student_3\" : 9 , \"student_4\" : 15 , \"student_5\" : 8 , \"student_6\" : 14 , \n",
    "            \"student_7\" : 16 , \"student_8\" : 12 , \"student_9\" : 13 , \"student_10\" : 15 , \"student_11\" : 14 , \"student_112\" : 9 , \n",
    "            \"student_13\" : 10 , \"student_14\" : 12 , \"student_15\" : 13 , \"student_16\" : 7 , \"student_17\" : 12 , \"student_18\" : 15 , \n",
    "            \"student_19\" : 9 , \"student_20\" : 17 ,}\n"
   ]
  },
  {
   "cell_type": "markdown",
   "id": "a2127ddc",
   "metadata": {},
   "source": [
    "#### Question 6: \n",
    "\n",
    "\n",
    "Write a python program that asks the user to enter an integer n and return a dictionary whose keys are integers 1, 2, 3, ... n and whose values ​​are 1! , 2! , 3! , … , n!"
   ]
  },
  {
   "cell_type": "code",
   "execution_count": 24,
   "id": "07c7a0f6",
   "metadata": {},
   "outputs": [
    {
     "name": "stdout",
     "output_type": "stream",
     "text": [
      "Dictionary with the use of Integer Keys: \n",
      "{1: '1!', 2: '2!', 3: '3!'}\n"
     ]
    }
   ],
   "source": [
    "Dict = {1: '1!', 2: '2!', 3: '3!'}\n",
    "\n",
    "print(\"Dictionary with the use of Integer Keys: \")\n",
    "print(Dict)"
   ]
  },
  {
   "cell_type": "markdown",
   "id": "73eb3c1f",
   "metadata": {},
   "source": [
    "#### Question 7: \n",
    "    \n",
    "Write a program to identify the largest word in a string."
   ]
  },
  {
   "cell_type": "code",
   "execution_count": null,
   "id": "5d57e16f",
   "metadata": {},
   "outputs": [],
   "source": [
    "def largest_word(filename):\n",
    "    with open('Dreamcount.txt', 'r') as infile:\n",
    "              words = infile.read().split()\n",
    "    max_len = len(max(words, key=len))\n",
    "    return [word for word in words if len(word) == max_len]\n",
    "\n",
    "print(largest_word('Dreamcount.txt'))"
   ]
  },
  {
   "cell_type": "markdown",
   "id": "395aa221",
   "metadata": {},
   "source": [
    "#### Question 8: \n",
    "    \n",
    "Given an integer array, write a program to identify all the rows with values greater than the mean of the entire data."
   ]
  },
  {
   "cell_type": "code",
   "execution_count": 37,
   "id": "c02f79db",
   "metadata": {},
   "outputs": [
    {
     "name": "stdout",
     "output_type": "stream",
     "text": [
      "Comparing with int :  False\n"
     ]
    }
   ],
   "source": [
    "import numpy as np\n",
    "arr = np.array([10, 7, 1, 8, 9,4])\n",
    "arr1 = np.mean(arr)\n",
    "\n",
    "print(\"Comparing with int : \", 'arr' > 'arr1')"
   ]
  },
  {
   "cell_type": "markdown",
   "id": "2c897176",
   "metadata": {},
   "source": [
    "#### Question 9: \n",
    "    \n",
    "Given an array of strings, write a program to create a new array which contains the lengths of the strings in ascending order"
   ]
  },
  {
   "cell_type": "code",
   "execution_count": 1,
   "id": "394d79e3",
   "metadata": {},
   "outputs": [
    {
     "name": "stdout",
     "output_type": "stream",
     "text": [
      "Length: 4\n"
     ]
    }
   ],
   "source": [
    "import numpy as np\n",
    "arr = ['Dog', 'Cat', 'Lizard', 'Dolphin']\n",
    "print(\"Length:\", len(arr))"
   ]
  },
  {
   "cell_type": "markdown",
   "id": "12af2109",
   "metadata": {},
   "source": [
    "#### Question 10: \n",
    "    \n",
    "Write a program to calculate the sum of the diagonal elements of a **n X n** matrix. "
   ]
  },
  {
   "cell_type": "code",
   "execution_count": 20,
   "id": "fb671b54",
   "metadata": {},
   "outputs": [
    {
     "name": "stdout",
     "output_type": "stream",
     "text": [
      "Principal Diagonal: 18\n",
      "Secondary Diagonal: 18\n"
     ]
    }
   ],
   "source": [
    "MAX = 100\n",
    " \n",
    "def printDiagonalSums(mat, n):\n",
    " \n",
    "    principal = 0\n",
    "    secondary = 0;\n",
    "    for i in range(0, n):\n",
    "        for j in range(0, n):\n",
    " \n",
    "            if (i == j):\n",
    "                principal += mat[i][j]\n",
    " \n",
    "            if ((i + j) == (n - 1)):\n",
    "                secondary += mat[i][j]\n",
    "         \n",
    "    print(\"Principal Diagonal:\", principal)\n",
    "    print(\"Secondary Diagonal:\", secondary)\n",
    "    \n",
    "a = [[ 1, 2, 3, 4 ],\n",
    "     [ 5, 6, 7, 8 ],\n",
    "     [ 1, 2, 3, 4 ],\n",
    "      [ 5, 6, 7, 8 ]]\n",
    "printDiagonalSums(a, 4)"
   ]
  }
 ],
 "metadata": {
  "kernelspec": {
   "display_name": "Python 3 (ipykernel)",
   "language": "python",
   "name": "python3"
  },
  "language_info": {
   "codemirror_mode": {
    "name": "ipython",
    "version": 3
   },
   "file_extension": ".py",
   "mimetype": "text/x-python",
   "name": "python",
   "nbconvert_exporter": "python",
   "pygments_lexer": "ipython3",
   "version": "3.9.12"
  }
 },
 "nbformat": 4,
 "nbformat_minor": 5
}
