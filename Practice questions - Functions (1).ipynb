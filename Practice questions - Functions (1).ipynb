{
 "cells": [
  {
   "cell_type": "markdown",
   "id": "1834e7af",
   "metadata": {},
   "source": [
    "## Practice Questions - Functions\n",
    "\n",
    "### Create functions for problems from weeks 1 & 2"
   ]
  },
  {
   "cell_type": "markdown",
   "id": "3edc9f62",
   "metadata": {},
   "source": [
    "#### Question 1: \n",
    "\n",
    "Create a function which takes 2 lists and a choice of **append(), extend(), insert(), and concatenation**, then returns the added list according to the selected choice. \n",
    "\n",
    "function call &rarr; add_lists (list_1, list_2, use_append) \\\n",
    "returns &rarr; [list_1, list_2]"
   ]
  },
  {
   "cell_type": "code",
   "execution_count": 7,
   "id": "b33faca1",
   "metadata": {},
   "outputs": [
    {
     "name": "stdout",
     "output_type": "stream",
     "text": [
      "[1, 2, 3, 4, [5, 6, 7, 8]]\n"
     ]
    }
   ],
   "source": [
    "list_1 = [1,2,3,4]\n",
    "list_2 = [5,6,7,8]\n",
    "\n",
    "def add_lists(a,b) :\n",
    "    a.append(b)\n",
    "    print(a)\n",
    "\n",
    "add_lists(list_1,list_2)"
   ]
  },
  {
   "cell_type": "markdown",
   "id": "3c3007cb",
   "metadata": {},
   "source": [
    "#### Question 2: \n",
    "\n",
    "Write a function that tests whether a list or a string is empty or not. \n",
    "\n",
    "function call &rarr; test_empty (list_1)\\\n",
    "returns &rarr; true or false"
   ]
  },
  {
   "cell_type": "code",
   "execution_count": 4,
   "id": "ac34d0bc",
   "metadata": {},
   "outputs": [
    {
     "name": "stdout",
     "output_type": "stream",
     "text": [
      "True\n"
     ]
    }
   ],
   "source": [
    "def test_empty(list_1):\n",
    "    if len(list_1) == 0:\n",
    "        return 0\n",
    "    else:\n",
    "        return 1\n",
    "    \n",
    "list_1 = []\n",
    "\n",
    "if test_empty(list_1) :\n",
    "    print(\"False\")\n",
    "else:\n",
    "    print(\"True\")"
   ]
  },
  {
   "cell_type": "markdown",
   "id": "42dcfc84",
   "metadata": {},
   "source": [
    "#### Question 3:\n",
    "\n",
    "Write a function that takes an integer n and return a dictionary whose keys are integers 1, 2, 3, ... n and whose values ​​are 1! , 2! , 3! , … , n!\n",
    "\n",
    "function call &rarr; factorial_dict (3)\\\n",
    "returns &rarr; { 1 : 1, 2 : 2, 3 : 6 }"
   ]
  },
  {
   "cell_type": "code",
   "execution_count": 11,
   "id": "cf3950b9",
   "metadata": {},
   "outputs": [
    {
     "name": "stdout",
     "output_type": "stream",
     "text": [
      "6\n"
     ]
    }
   ],
   "source": [
    "def factorial_dict(n):\n",
    "    if n == 1:\n",
    "        return n\n",
    "    elif n < 1:\n",
    "        return (\"NA\")\n",
    "    else:\n",
    "        return n*factorial_dict(n-1)\n",
    "    \n",
    "print (factorial_dict(3))"
   ]
  },
  {
   "cell_type": "markdown",
   "id": "dda2ad27",
   "metadata": {},
   "source": [
    "#### Question 4: \n",
    "    \n",
    "Write a function to identify the largest word in a string.\n",
    "\n",
    "function call &rarr; largest_word (\"Fear leads to anger, anger leads to hate, hate leads to suffering.\")\\\n",
    "returns &rarr; \"suffering\""
   ]
  },
  {
   "cell_type": "code",
   "execution_count": 36,
   "id": "792fed25",
   "metadata": {},
   "outputs": [
    {
     "name": "stdout",
     "output_type": "stream",
     "text": [
      "Fear 4\n",
      "leads 5\n",
      "to 2\n",
      "anger, 6\n",
      "anger 5\n",
      "leads 5\n",
      "to 2\n",
      "hate, 5\n",
      "hate 4\n",
      "leads 5\n",
      "to 2\n",
      "suffering. 10\n"
     ]
    }
   ],
   "source": [
    "def largest_word(word_list):  \n",
    "    for word in word_list:    \n",
    "          print(word, len(word))  \n",
    "\n",
    "words =  (\"Fear leads to anger, anger leads to hate, hate leads to suffering.\") \n",
    "word_list = words.split()  \n",
    "largest_word(word_list)"
   ]
  },
  {
   "cell_type": "markdown",
   "id": "c4af06ad",
   "metadata": {},
   "source": [
    "#### Question 5: \n",
    "    \n",
    "Write a function to calculate the sum of the diagonal elements of a **n X n** matrix. \n",
    "\n",
    "function call &rarr; diagonal_sum(   [ [ 1  4  7 ]\n",
    " [ 2  5  8 ]\n",
    " [ 3  6  9 ] ] )\\\n",
    "returns &rarr; 15"
   ]
  },
  {
   "cell_type": "code",
   "execution_count": 39,
   "id": "779fa0af",
   "metadata": {},
   "outputs": [
    {
     "name": "stdout",
     "output_type": "stream",
     "text": [
      "15\n"
     ]
    }
   ],
   "source": [
    "import numpy as np\n",
    "\n",
    "n_array = np.array([[1, 4, 7],\n",
    "                    [2, 5, 8],\n",
    "                    [3, 6, 9]])\n",
    "  \n",
    "trace = np.trace(n_array)\n",
    "  \n",
    "print(trace)"
   ]
  },
  {
   "cell_type": "markdown",
   "id": "e18dcbdd",
   "metadata": {},
   "source": [
    "#### Question 6: Given a student score (between 0 and 100), write a function to evaluate the following criteria.\n",
    "\n",
    "- Elgible for funding if the score is greater than 90\n",
    "- Fail if the score is less than 70\n",
    "- Need tutoring if they are not qualified for funding and havent failed.\n",
    " \n",
    "function call → student_assessment(67)\\\n",
    "returns → Fail"
   ]
  },
  {
   "cell_type": "code",
   "execution_count": 42,
   "id": "520a6017",
   "metadata": {},
   "outputs": [
    {
     "name": "stdout",
     "output_type": "stream",
     "text": [
      "Fail\n"
     ]
    }
   ],
   "source": [
    "def student_assessment(score) :\n",
    "    if score > 90 :\n",
    "        print(\"Elgible for funding\")\n",
    "    elif score <= 90 and score >= 70:\n",
    "        print(\"Let's go tutoting\")    \n",
    "    elif score < 70 :\n",
    "        print(\"Fail\")\n",
    "        \n",
    "student_assessment(67)"
   ]
  },
  {
   "cell_type": "markdown",
   "id": "303ae729",
   "metadata": {},
   "source": [
    "#### Question 7: Write a function to check if the given year is a leap year.\n",
    "\n",
    "function call → cheap_leap(1995)\\\n",
    "returns → \"No\""
   ]
  },
  {
   "cell_type": "code",
   "execution_count": 48,
   "id": "748911cd",
   "metadata": {},
   "outputs": [
    {
     "name": "stdout",
     "output_type": "stream",
     "text": [
      "No\n"
     ]
    }
   ],
   "source": [
    "def cheap_leap(year):\n",
    " \n",
    "    return (((year % 4 == 0) and (year % 100 != 0)) or (year % 400 == 0))\n",
    "\n",
    "year = 1995\n",
    "\n",
    "if(cheap_leap(year)):\n",
    "    print(\"Leap Year\")\n",
    "else:\n",
    "    print(\"No\")"
   ]
  },
  {
   "cell_type": "markdown",
   "id": "67ea7a6a",
   "metadata": {},
   "source": [
    "#### Question 8: Write a function which returns the number of days in the given month. (You can assume 28 days for February)\n",
    "\n",
    "function call → get_days(\"January\")\\\n",
    "returns → 31"
   ]
  },
  {
   "cell_type": "code",
   "execution_count": 14,
   "id": "afdf7ac2",
   "metadata": {},
   "outputs": [
    {
     "name": "stdout",
     "output_type": "stream",
     "text": [
      "\n",
      "Total Number of Days in a Month:  31\n"
     ]
    }
   ],
   "source": [
    "from calendar import monthrange\n",
    "\n",
    "Total_number_days = monthrange(2020, 5)[1]\n",
    "print(\"\\nTotal Number of Days in a Month: \",Total_number_days)"
   ]
  },
  {
   "cell_type": "markdown",
   "id": "983b7e74",
   "metadata": {},
   "source": [
    "#### Question 9: Write a function which takes the user's weight(in lbs) and height(in inches), and then returns the bmi using the below formula.\n",
    "\n",
    "BMI = Weight X 0.45359/((Height X 0.0254) X Height X 0.0254))\n",
    "\n",
    "function call → calculate_bmi(150, 70)\\\n",
    "returns → 21.522"
   ]
  },
  {
   "cell_type": "code",
   "execution_count": 22,
   "id": "41fcb0a5",
   "metadata": {},
   "outputs": [
    {
     "ename": "SyntaxError",
     "evalue": "unmatched ')' (3340395908.py, line 5)",
     "output_type": "error",
     "traceback": [
      "\u001b[1;36m  Input \u001b[1;32mIn [22]\u001b[1;36m\u001b[0m\n\u001b[1;33m    bmi= weight * 0.45359/((height * 0.0254) * height * 0.0254))\u001b[0m\n\u001b[1;37m                                                               ^\u001b[0m\n\u001b[1;31mSyntaxError\u001b[0m\u001b[1;31m:\u001b[0m unmatched ')'\n"
     ]
    }
   ],
   "source": [
    "def calculate_bmi() :\n",
    "    weight=float(150)\n",
    "    height=float(70)\n",
    "    \n",
    "    bmi= weight * 0.45359/((height * 0.0254) * height * 0.0254))\n",
    "    \n",
    "    print('bmi')"
   ]
  },
  {
   "cell_type": "markdown",
   "id": "273584f9",
   "metadata": {},
   "source": [
    "#### Question 10: Write a function to check whether a number is prime or not.\n",
    "\n",
    "function call → check_prime(13)\\\n",
    "returns → \"True\""
   ]
  },
  {
   "cell_type": "code",
   "execution_count": 56,
   "id": "3946d678",
   "metadata": {},
   "outputs": [
    {
     "ename": "IndentationError",
     "evalue": "expected an indented block (2240226682.py, line 4)",
     "output_type": "error",
     "traceback": [
      "\u001b[1;36m  Input \u001b[1;32mIn [56]\u001b[1;36m\u001b[0m\n\u001b[1;33m    for i in range(1, num+1):\u001b[0m\n\u001b[1;37m    ^\u001b[0m\n\u001b[1;31mIndentationError\u001b[0m\u001b[1;31m:\u001b[0m expected an indented block\n"
     ]
    }
   ],
   "source": [
    "def check_prime() :\n",
    "\n",
    "\n",
    "for i in range(1, num+1):\n",
    "    if(num % i == 0):\n",
    "       count += 1\n",
    "    \n",
    "if(count == 2):\n",
    "    print(\"%d is a prime number\" % num)\n",
    "else:\n",
    "    print(\"%d is a NOT prime number\" % num)\n",
    "    \n",
    "check_prime(13)   "
   ]
  }
 ],
 "metadata": {
  "kernelspec": {
   "display_name": "Python 3 (ipykernel)",
   "language": "python",
   "name": "python3"
  },
  "language_info": {
   "codemirror_mode": {
    "name": "ipython",
    "version": 3
   },
   "file_extension": ".py",
   "mimetype": "text/x-python",
   "name": "python",
   "nbconvert_exporter": "python",
   "pygments_lexer": "ipython3",
   "version": "3.9.12"
  }
 },
 "nbformat": 4,
 "nbformat_minor": 5
}
