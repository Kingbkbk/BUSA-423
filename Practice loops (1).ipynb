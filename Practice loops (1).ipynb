{
 "cells": [
  {
   "cell_type": "markdown",
   "id": "f42153b9",
   "metadata": {},
   "source": [
    "## Practice Questions - Loops"
   ]
  },
  {
   "cell_type": "markdown",
   "id": "c8c3054e",
   "metadata": {},
   "source": [
    "#### Question 1: Write a program to print the following number pattern using a loop.\n",
    "\n",
    "1 \\\n",
    "1 3 \\\n",
    "1 3 5 "
   ]
  },
  {
   "cell_type": "code",
   "execution_count": 7,
   "id": "1108608c",
   "metadata": {},
   "outputs": [
    {
     "name": "stdout",
     "output_type": "stream",
     "text": [
      "1\n",
      "3\n",
      "5\n"
     ]
    }
   ],
   "source": [
    "# Solution \n",
    "\n",
    "for number in [1,3,5]:\n",
    "    print (number)"
   ]
  },
  {
   "cell_type": "markdown",
   "id": "94440a4e",
   "metadata": {},
   "source": [
    "#### Question 2: Calculate the sum of all numbers from 1 to a given number  \n",
    "\n",
    "Input - 5\\\n",
    "Output - 15, <em>which is (1+2+3+4+5)</em>"
   ]
  },
  {
   "cell_type": "code",
   "execution_count": 10,
   "id": "770a9f6f",
   "metadata": {},
   "outputs": [
    {
     "name": "stdout",
     "output_type": "stream",
     "text": [
      "Sum of numbers is:  15\n"
     ]
    }
   ],
   "source": [
    "# Solution\n",
    "n = int(5)\n",
    "sum = 0\n",
    "for num in range(1, n + 1, 1):\n",
    "    sum = sum + num\n",
    "print(\"Sum of numbers is: \", sum)"
   ]
  },
  {
   "cell_type": "markdown",
   "id": "e20717d7",
   "metadata": {},
   "source": [
    "#### Question 3: Find the factorial of a given number \n",
    "\n",
    "Input - 5\\\n",
    "Output - 120, <em>which is (1x2x3x4x5)</em>"
   ]
  },
  {
   "cell_type": "code",
   "execution_count": 12,
   "id": "9be266a7",
   "metadata": {},
   "outputs": [
    {
     "name": "stdout",
     "output_type": "stream",
     "text": [
      "Factorial of numbers is:  120\n"
     ]
    }
   ],
   "source": [
    "# Solution\n",
    "n = int(5)\n",
    "sum = 1\n",
    "for num in range(1, n + 1, 1):\n",
    "    sum = sum * num\n",
    "print(\"Factorial of numbers is: \", sum)"
   ]
  },
  {
   "cell_type": "markdown",
   "id": "8b4643ca",
   "metadata": {},
   "source": [
    "#### Question 4: Given a student score (between 0 and 100), evaluate the following criteria.\n",
    "\n",
    "- Elgible for funding if the score is greater than 90\n",
    "- Fail if the score is less than 70\n",
    "- Need tutoring if they are not qualified for funding and havent failed.\n",
    " \n",
    "Input - 65, <em> User input </em> \\\n",
    "Output - Fail"
   ]
  },
  {
   "cell_type": "code",
   "execution_count": 14,
   "id": "755dda69",
   "metadata": {},
   "outputs": [
    {
     "name": "stdout",
     "output_type": "stream",
     "text": [
      "Failed to funding\n"
     ]
    }
   ],
   "source": [
    "# Solution\n",
    "grade = 65\n",
    "\n",
    "if grade > 90 :\n",
    "    print(\"Elgible to funding\")\n",
    "if grade < 70 :\n",
    "    print(\"Failed to funding\")"
   ]
  },
  {
   "cell_type": "markdown",
   "id": "0250ffb6",
   "metadata": {},
   "source": [
    "#### Question 5: Check if the given year is a leap year.\n",
    "\n",
    "Input - 1995 \\\n",
    "Output - No"
   ]
  },
  {
   "cell_type": "code",
   "execution_count": 18,
   "id": "6e37dfb4",
   "metadata": {},
   "outputs": [
    {
     "name": "stdout",
     "output_type": "stream",
     "text": [
      "No\n"
     ]
    }
   ],
   "source": [
    "# Solution\n",
    "\n",
    "def checkYear(year):\n",
    " \n",
    "    return (((year % 4 == 0) and (year % 100 != 0)) or (year % 400 == 0))\n",
    "\n",
    "year = 1995\n",
    "\n",
    "if(checkYear(year)):\n",
    "    print(\"Leap Year\")\n",
    "else:\n",
    "    print(\"No\")"
   ]
  },
  {
   "cell_type": "markdown",
   "id": "4a44d2fb",
   "metadata": {},
   "source": [
    "#### Question 6: Print the number of days in the given month. (You can assume 28 days for February)\n",
    "\n",
    "Input - \"January\" \\\n",
    "Output - 31"
   ]
  },
  {
   "cell_type": "code",
   "execution_count": 23,
   "id": "98d82f0c",
   "metadata": {},
   "outputs": [
    {
     "ename": "SyntaxError",
     "evalue": "invalid syntax (1236996191.py, line 5)",
     "output_type": "error",
     "traceback": [
      "\u001b[1;36m  Input \u001b[1;32mIn [23]\u001b[1;36m\u001b[0m\n\u001b[1;33m    if (month = January, March, May, July, August, October, December) :\u001b[0m\n\u001b[1;37m              ^\u001b[0m\n\u001b[1;31mSyntaxError\u001b[0m\u001b[1;31m:\u001b[0m invalid syntax\n"
     ]
    }
   ],
   "source": [
    "# Solution\n",
    "\n",
    "month = January\n",
    "\n",
    "if (month = January, March, May, July, August, October, December) :\n",
    "    print(31)\n",
    "if (month = Febraury, April, June, September, November) :\n",
    "    print(30)\n",
    "else :\n",
    "    print(28)"
   ]
  },
  {
   "cell_type": "markdown",
   "id": "05d3d8c1",
   "metadata": {},
   "source": [
    "#### Question 7: Write a program which takes the 3 numbers and identifes the largest one.\n",
    "\n",
    "Input - 30, 12, 50 \\\n",
    "Output - 50"
   ]
  },
  {
   "cell_type": "code",
   "execution_count": 28,
   "id": "f4d47f2d",
   "metadata": {},
   "outputs": [
    {
     "name": "stdout",
     "output_type": "stream",
     "text": [
      "50\n"
     ]
    }
   ],
   "source": [
    "# Solution\n",
    "\n",
    "mylist = [30, 12, 50]\n",
    "print(max(mylist))"
   ]
  },
  {
   "cell_type": "markdown",
   "id": "0b76f364",
   "metadata": {},
   "source": [
    "#### Question 8: Write a program which takes the three 2 digit numbers and sorts them in ascending order.\n",
    "\n",
    "Input - 30, 12, 50 \\\n",
    "Output - 12, 30, 50"
   ]
  },
  {
   "cell_type": "code",
   "execution_count": 31,
   "id": "66cc7213",
   "metadata": {},
   "outputs": [
    {
     "name": "stdout",
     "output_type": "stream",
     "text": [
      "[12, 30, 50]\n"
     ]
    }
   ],
   "source": [
    "# Solution\n",
    "\n",
    "mylist = [30, 12, 50]\n",
    "mylist.sort()\n",
    "print(mylist)"
   ]
  },
  {
   "cell_type": "markdown",
   "id": "f90efc3e",
   "metadata": {},
   "source": [
    "#### Question 9: Write a program which takes the user's weight(in lbs) and height(in inches), and then calculates the bmi using the below formula.\n",
    "\n",
    "BMI = Weight X 0.45359/((Height X 0.0254) X Height X 0.0254))\n",
    "\n",
    "Input - 150, 70 <em> , 2 user inputs (weight and height) </em> \\\n",
    "Output - 21.522"
   ]
  },
  {
   "cell_type": "code",
   "execution_count": 33,
   "id": "8d2ca168",
   "metadata": {},
   "outputs": [
    {
     "name": "stdout",
     "output_type": "stream",
     "text": [
      "Enter your height in meters: 150\n",
      "Enter your Weight in Kg: 70\n",
      "BMI Calculated is:   2.187316152410083\n"
     ]
    }
   ],
   "source": [
    "# Solution\n",
    "h=float(input(\"Enter your height in meters: \"))\n",
    "w=float(input(\"Enter your Weight in Kg: \"))\n",
    " \n",
    "BMI=w*0.45359/(h*0.0254*h*0.0254)\n",
    "print(\"BMI Calculated is:  \",BMI)"
   ]
  },
  {
   "cell_type": "markdown",
   "id": "bdfa27e9",
   "metadata": {},
   "source": [
    "#### Question 10: Write a program to check whether a number is prime or not using while loop.\n",
    "\n",
    "Input - 13 \\\n",
    "Output - Prime"
   ]
  },
  {
   "cell_type": "code",
   "execution_count": 34,
   "id": "4217bdec",
   "metadata": {},
   "outputs": [
    {
     "name": "stdout",
     "output_type": "stream",
     "text": [
      "13 is a prime number\n"
     ]
    }
   ],
   "source": [
    "# Solution\n",
    "num = 13\n",
    "count = 0\n",
    "\n",
    "for i in range(1, num+1):\n",
    "    if(num % i == 0):\n",
    "       count += 1\n",
    "\t\t\t \n",
    "if(count == 2):\n",
    "    print(\"%d is a prime number\" % num)\n",
    "else:\n",
    "    print(\"%d is a NOT prime number\" % num)"
   ]
  }
 ],
 "metadata": {
  "kernelspec": {
   "display_name": "Python 3 (ipykernel)",
   "language": "python",
   "name": "python3"
  },
  "language_info": {
   "codemirror_mode": {
    "name": "ipython",
    "version": 3
   },
   "file_extension": ".py",
   "mimetype": "text/x-python",
   "name": "python",
   "nbconvert_exporter": "python",
   "pygments_lexer": "ipython3",
   "version": "3.9.12"
  }
 },
 "nbformat": 4,
 "nbformat_minor": 5
}
