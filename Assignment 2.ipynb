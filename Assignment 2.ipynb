{
 "cells": [
  {
   "cell_type": "markdown",
   "id": "44561f16",
   "metadata": {},
   "source": [
    "# 1. Write a program for flipping a coin 10,000 times and store the results in a list. After which, identify the number of streaks. (Streak - a series of 5 or more heads or tails)\n",
    "Hint: use random.randint() function to create the coin flip"
   ]
  },
  {
   "cell_type": "code",
   "execution_count": 6,
   "id": "7ae5f365",
   "metadata": {},
   "outputs": [
    {
     "name": "stdout",
     "output_type": "stream",
     "text": [
      "306\n"
     ]
    }
   ],
   "source": [
    "import random\n",
    "choices = ['heads','tails']\n",
    "\n",
    "def count_streaks(results):\n",
    "    streaks, current_streak, current_count = 0,results[0],0\n",
    "    for i in range(len(results)):\n",
    "        if results[i]==current_streak:\n",
    "            current_count+=1\n",
    "        else:\n",
    "            if current_count>=5:\n",
    "                streaks+=1\n",
    "            current_streak, current_count = results[i],1 #updating current\n",
    "    return streaks\n",
    "\n",
    "results = random.choices(choices,k=10000)\n",
    "print(count_streaks(results))"
   ]
  },
  {
   "cell_type": "markdown",
   "id": "289105a2",
   "metadata": {},
   "source": [
    "# 2. Write a program to take user inputs (number of swords, diamonds, gold coins, ropes and potions) for a video game and store them in a dictionary. After which print the following output."
   ]
  },
  {
   "cell_type": "code",
   "execution_count": 2,
   "id": "a282d69c",
   "metadata": {},
   "outputs": [
    {
     "name": "stdout",
     "output_type": "stream",
     "text": [
      "Enter the number of swords: 4\n",
      "Enter the number of diamonds: 10\n",
      "Enter the number of gold coins: 6\n",
      "Enter the number of rope: 3\n",
      "Enter the number of potions: 2\n",
      "4 swords\n",
      "10 diamonds\n",
      "6 gold coins\n",
      "3 rope\n",
      "2 potions\n"
     ]
    }
   ],
   "source": [
    "items = ['swords','diamonds','gold coins','rope','potions']\n",
    "inventory = {}\n",
    "\n",
    "for item in items:\n",
    "    inventory[item] = int(input('Enter the number of {}: '.format(item)))\n",
    "    \n",
    "\n",
    "\n",
    "for item,cnt in inventory.items():\n",
    "    print(cnt,item)"
   ]
  },
  {
   "cell_type": "markdown",
   "id": "42d307d1",
   "metadata": {},
   "source": [
    "# 3. Repeat question 1 using arrays."
   ]
  },
  {
   "cell_type": "code",
   "execution_count": 7,
   "id": "057b1dc8",
   "metadata": {},
   "outputs": [
    {
     "name": "stdout",
     "output_type": "stream",
     "text": [
      "294\n"
     ]
    }
   ],
   "source": [
    "import random as rand\n",
    "arr = []\n",
    "for i in range(10000):\n",
    "    out = rand.randint(1,2)\n",
    "    arr.append(out)\n",
    "\n",
    "prev = arr[0]\n",
    "temp = 1\n",
    "ans = 0\n",
    "for i in range(1,10000):\n",
    "    if(prev==arr[i]):\n",
    "        temp+=1\n",
    "    else:\n",
    "        if(temp>=5):\n",
    "            ans+=1\n",
    "        temp=1\n",
    "    prev = arr[i]\n",
    "print(ans)"
   ]
  },
  {
   "cell_type": "markdown",
   "id": "91b59bbd",
   "metadata": {},
   "source": [
    "# 4. Create a game with the following instructions. (40)\n",
    "\n",
    "a. There are 3 players and 10 iterations.\n",
    "\n",
    "b. In each iteration, every player rolls a die.\n",
    "\n",
    "c. The total score for each player is calculated by adding up the 10 rolls.\n",
    "\n",
    "d. The player with the highest total score is declared as the winner.\n",
    "\n",
    "Hint: use random.randint() function to create the die rolls"
   ]
  },
  {
   "cell_type": "code",
   "execution_count": 9,
   "id": "3b36cd1f",
   "metadata": {},
   "outputs": [
    {
     "name": "stdout",
     "output_type": "stream",
     "text": [
      "Winner for the following game is Player 2\n"
     ]
    }
   ],
   "source": [
    "import random\n",
    " \n",
    "num_iterations, num_players = 10,3\n",
    "scores = [0]*num_players #initializing scores to 0\n",
    " \n",
    "for i in range(num_iterations):\n",
    "    #every player throws the dice\n",
    "    for player in range(num_players):\n",
    "        scores[player] += random.randint(1,6) #adding current outcome to the score of the player\n",
    " \n",
    "winner = max(enumerate(scores), key=lambda scores:scores[1])[0] + 1 #adding 1 because indexing starts from 0\n",
    "print('Winner for the following game is Player {}'.format(winner))"
   ]
  }
 ],
 "metadata": {
  "kernelspec": {
   "display_name": "Python 3 (ipykernel)",
   "language": "python",
   "name": "python3"
  },
  "language_info": {
   "codemirror_mode": {
    "name": "ipython",
    "version": 3
   },
   "file_extension": ".py",
   "mimetype": "text/x-python",
   "name": "python",
   "nbconvert_exporter": "python",
   "pygments_lexer": "ipython3",
   "version": "3.9.12"
  }
 },
 "nbformat": 4,
 "nbformat_minor": 5
}
