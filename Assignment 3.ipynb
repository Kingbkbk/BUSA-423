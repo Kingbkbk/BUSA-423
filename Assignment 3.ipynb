{
 "cells": [
  {
   "cell_type": "markdown",
   "id": "3c11a6a9",
   "metadata": {},
   "source": [
    "# 1. Create a class to store student records. Each student has a first name, last name,country, overall grade (0 - 4.0 scale), credits completed (total 30) and major.\n",
    "\n",
    "After which, create a method within this class to evaluate student progress. \n",
    "Progress is evaluated as follows:\n",
    "• “Good”: if grades are above 3.0 and credits completed is greater than 20\n",
    "• “Average”: if grades are above 2.5 or credits completed is between 10 and 20\n",
    "• “Bad”: if grades are below 2.5"
   ]
  },
  {
   "cell_type": "code",
   "execution_count": 10,
   "id": "29f00880",
   "metadata": {},
   "outputs": [
    {
     "name": "stdout",
     "output_type": "stream",
     "text": [
      "Fisrt Student: Good\n",
      "Second Student: Average\n"
     ]
    }
   ],
   "source": [
    "class StudentRecords:\n",
    "    def __init__(self,firstname,lastname,country,overallgrade,creditscompleted):\n",
    "        self.firstname  = firstname\n",
    "        self.lastname = lastname\n",
    "        self.country = country\n",
    "        self.overallgrade = overallgrade\n",
    "        self.creditscompleted = creditscompleted\n",
    "\n",
    "    def Evaluate(self) :\n",
    "        if self.overallgrade > 3.0 and self.creditscompleted > 20 :\n",
    "            print(\"Good\")\n",
    "        elif self.overallgrade > 2.5 and self.creditscompleted <= 20 and self.creditscompleted >= 10 :\n",
    "            print(\"Average\")\n",
    "        elif self.overallgrade <= 2.5 :\n",
    "            print(\"Bad\")\n",
    "            \n",
    "print(\"Fisrt Student:\",end=\" \")\n",
    "stud = StudentRecords('Bongkyun','Kim','Korea',4.0,22);\n",
    "stud.Evaluate();\n",
    "\n",
    "print(\"Second Student:\",end=\" \")\n",
    "stud = StudentRecords('Michael','Jordan','States',2.8,15);\n",
    "stud.Evaluate();"
   ]
  },
  {
   "cell_type": "markdown",
   "id": "1a7f3c62",
   "metadata": {},
   "source": [
    "# 2. Write a function which separates the positive and negative numbers from a list of numbers.\n",
    "Input: [-6, 5, -3, -2, 1, 0, -8, 9, 3] \n",
    "Output: [-6, -3, -2, -8], [5, 1, 9, 3]"
   ]
  },
  {
   "cell_type": "code",
   "execution_count": 13,
   "id": "ebf59bea",
   "metadata": {},
   "outputs": [
    {
     "name": "stdout",
     "output_type": "stream",
     "text": [
      "Positives: [5, 1, 9, 3]\n",
      "Negatives: [-6, -3, -2, -8]\n"
     ]
    }
   ],
   "source": [
    "numbers = [-6, 5, -3, -2, 1, 0, -8, 9, 3]\n",
    "\n",
    "def Scanning(numbers):\n",
    "    positive = []\n",
    "    negative = [] \n",
    "\n",
    "    for num in numbers:\n",
    "        if num > 0: \n",
    "            positive.append(num) \n",
    "        elif num < 0:\n",
    "            negative.append(num)\n",
    "\n",
    "    print('Positives:',positive) \n",
    "    print('Negatives:',negative)\n",
    "\n",
    "Scanning(numbers)"
   ]
  },
  {
   "cell_type": "markdown",
   "id": "3bc57993",
   "metadata": {},
   "source": [
    "# 3. Write a function which outputs all winning possibilities for a given player’s score. Assume the score is always between 15 and 21. Further, the dealer is dealt only 2 cards.\n",
    "Input - 18 (player’s final score)\n",
    "Output - [(9,10), (10,11), (10,10), (11,9), (11,8)]\n",
    "\n",
    "Notes:\n",
    "- No need to specify face cards separately, you can use the value “10”\n",
    "- (11,11) is not a winning combination\n",
    "https://u.osu.edu/sdp12d1/user-manual/ (Black Jack - rules)"
   ]
  },
  {
   "cell_type": "code",
   "execution_count": 27,
   "id": "2ff8726c",
   "metadata": {},
   "outputs": [
    {
     "name": "stdout",
     "output_type": "stream",
     "text": [
      "Open the card : 15\n",
      "[(7, 11), (8, 10), (8, 11), (9, 9), (9, 10), (9, 11), (10, 10), (10, 11)]\n"
     ]
    }
   ],
   "source": [
    "def winposs(finalscore):\n",
    "\n",
    "    possibilities = [] \n",
    "\n",
    "    for a in range(1,12): \n",
    "        for b in range(1,12):\n",
    "            if ((a + b) > finalScore):\n",
    "                 if ((a,b) not in possibilities) and ((b,a) not in possibilities) and ((a,b) != (11,11)) and ((b,a) != (11,11)):\n",
    "                    possibilities.append((a,b))\n",
    "\n",
    "    print(possibilities) \n",
    "\n",
    "finalscore = int(input(\"Open the card : \"))\n",
    "winposs(finalscore)"
   ]
  },
  {
   "cell_type": "markdown",
   "id": "3ab2617a",
   "metadata": {},
   "source": [
    "# 4.  Calculate the number of steps & Big O order for the programs in question 2 and 3. "
   ]
  },
  {
   "cell_type": "code",
   "execution_count": null,
   "id": "9abf2118",
   "metadata": {},
   "outputs": [],
   "source": [
    "Question 2 \n",
    "I think there is 9 steps.\n",
    "Question 3\n",
    "There is 3 steps and loop(n^2)"
   ]
  }
 ],
 "metadata": {
  "kernelspec": {
   "display_name": "Python 3 (ipykernel)",
   "language": "python",
   "name": "python3"
  },
  "language_info": {
   "codemirror_mode": {
    "name": "ipython",
    "version": 3
   },
   "file_extension": ".py",
   "mimetype": "text/x-python",
   "name": "python",
   "nbconvert_exporter": "python",
   "pygments_lexer": "ipython3",
   "version": "3.9.12"
  }
 },
 "nbformat": 4,
 "nbformat_minor": 5
}
