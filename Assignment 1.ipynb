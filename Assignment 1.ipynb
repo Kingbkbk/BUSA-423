{
 "cells": [
  {
   "cell_type": "markdown",
   "id": "a19a39b6",
   "metadata": {},
   "source": [
    "# 1. Write a program which randomly selects a number between 1 and 20. The user is then given 5 chances to guess the number correctly to win."
   ]
  },
  {
   "cell_type": "code",
   "execution_count": 5,
   "id": "b95ed818",
   "metadata": {},
   "outputs": [
    {
     "name": "stdout",
     "output_type": "stream",
     "text": [
      "You have a 5 chances to guess the number between 1 and 20.\n",
      "Chance 1: 2\n",
      "Chance 2: 3\n",
      "Chance 3: 4\n",
      "Chance 4: 5\n",
      "Chance 5: 6\n",
      "You lose\n"
     ]
    }
   ],
   "source": [
    "import random\n",
    "\n",
    "number = random.randint(1, 20)\n",
    "guessed = 0\n",
    "print(\"You have a 5 chances to guess the number between 1 and 20.\")\n",
    "while True:\n",
    "    guessed += 1\n",
    "    print(\"Chance\", guessed, end=\": \")\n",
    "    guess = int(input())\n",
    "    if guess == number:\n",
    "        print(\"You win\")\n",
    "        break\n",
    "    if guessed == 5:\n",
    "        print(\"You lose\")\n",
    "        break"
   ]
  },
  {
   "cell_type": "markdown",
   "id": "91492b68",
   "metadata": {},
   "source": [
    "# 2. Make the following changes to above program. After each guess, print if the guess should be lower or higher. For example, if the computer selection is 10 and the user input is 6, print guess a higher level."
   ]
  },
  {
   "cell_type": "code",
   "execution_count": 7,
   "id": "77ae0fe1",
   "metadata": {},
   "outputs": [
    {
     "name": "stdout",
     "output_type": "stream",
     "text": [
      "You have a 5 chances to guess the number between 1 and 20.\n",
      "Chance 1: 3\n",
      "Guess should be lower\n",
      "Chance 2: 2\n",
      "Guess should be lower\n",
      "Chance 3: 1\n",
      "You win\n"
     ]
    }
   ],
   "source": [
    "import random\n",
    "\n",
    "number = random.randint(1, 20)\n",
    "guessed = 0\n",
    "print(\"You have a 5 chances to guess the number between 1 and 20.\")\n",
    "while True:\n",
    "    guessed += 1\n",
    "    print(\"Chance\", guessed, end=\": \")\n",
    "    guess = int(input())\n",
    "    if guess < number:\n",
    "        print(\"Guess should be higher\")\n",
    "    if guess > number:\n",
    "        print(\"Guess should be lower\")\n",
    "    if guess == number:\n",
    "        print(\"You win\")\n",
    "        break\n",
    "    if guessed == 5:\n",
    "        print(\"You lose\")\n",
    "        break"
   ]
  },
  {
   "cell_type": "markdown",
   "id": "0ed690b6",
   "metadata": {},
   "source": [
    "# 3. Write a program for \"Rock-Paper-Scissors-Lizard-Spock\""
   ]
  },
  {
   "cell_type": "code",
   "execution_count": 8,
   "id": "24edee59",
   "metadata": {},
   "outputs": [
    {
     "name": "stdout",
     "output_type": "stream",
     "text": [
      "Select \n",
      " 1. Rock \n",
      " 2. Paper \n",
      " 3. Scissors \n",
      " 4. Lizard \n",
      " 5. Spock\n",
      "Select one: 2\n",
      "Your Choice:  2\n",
      "Computer's Choice:  1\n",
      "You Won\n"
     ]
    }
   ],
   "source": [
    "import random\n",
    "\n",
    "print(\"Select \\n 1. Rock \\n 2. Paper \\n 3. Scissors \\n 4. Lizard \\n 5. Spock\")\n",
    "user_Pick = int(input(\"Select one: \"))\n",
    "while user_Pick > 5 or user_Pick < 1:\n",
    "    user_Pick = int(input(\"Re-Select one: \"))\n",
    "computer_Pick = random.randint(1, 5)\n",
    "\n",
    "print(\"Your Choice: \", user_Pick)\n",
    "print(\"Computer's Choice: \", computer_Pick)\n",
    "\n",
    "if user_Pick == computer_Pick:\n",
    "    print(\"Draw\")\n",
    "elif user_Pick == 1 and (computer_Pick == 2 or computer_Pick == 5):\n",
    "    print(\"Computer Won\")\n",
    "elif user_Pick == 1 and (computer_Pick == 3 or computer_Pick == 4):\n",
    "    print(\"You Won\")\n",
    "elif user_Pick == 2 and (computer_Pick == 3 or computer_Pick == 4):\n",
    "    print(\"Computer Won\")\n",
    "elif user_Pick == 2 and (computer_Pick == 1 or computer_Pick == 5):\n",
    "    print(\"You Won\")\n",
    "elif user_Pick == 3 and (computer_Pick == 1 or computer_Pick == 5):\n",
    "    print(\"Computer Won\")\n",
    "elif user_Pick == 3 and (computer_Pick == 2 or computer_Pick == 4):\n",
    "    print(\"You Won\")\n",
    "elif user_Pick == 4 and (computer_Pick == 1 or computer_Pick == 3):\n",
    "    print(\"Computer Won\")\n",
    "elif user_Pick == 4 and (computer_Pick == 2 or computer_Pick == 5):\n",
    "    print(\"You Won\")\n",
    "elif user_Pick == 5 and (computer_Pick == 2 or computer_Pick == 4):\n",
    "    print(\"Computer Won\")\n",
    "else:\n",
    "    print(\"You Won\")"
   ]
  }
 ],
 "metadata": {
  "kernelspec": {
   "display_name": "Python 3 (ipykernel)",
   "language": "python",
   "name": "python3"
  },
  "language_info": {
   "codemirror_mode": {
    "name": "ipython",
    "version": 3
   },
   "file_extension": ".py",
   "mimetype": "text/x-python",
   "name": "python",
   "nbconvert_exporter": "python",
   "pygments_lexer": "ipython3",
   "version": "3.9.12"
  }
 },
 "nbformat": 4,
 "nbformat_minor": 5
}
